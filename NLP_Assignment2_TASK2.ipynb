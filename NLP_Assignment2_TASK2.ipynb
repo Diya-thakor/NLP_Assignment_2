{
  "cells": [
    {
      "cell_type": "markdown",
      "source": [
        "# **Task 2: Model Training**"
      ],
      "metadata": {
        "id": "ho7W7ks1T8IS"
      }
    },
    {
      "cell_type": "code",
      "execution_count": null,
      "metadata": {
        "_cell_guid": "b1076dfc-b9ad-4769-8c92-a6c4dae69d19",
        "_uuid": "8f2839f25d086af736a60e9eeb907d3b93b6e0e5",
        "execution": {
          "iopub.execute_input": "2024-11-14T04:56:57.870771Z",
          "iopub.status.busy": "2024-11-14T04:56:57.870540Z",
          "iopub.status.idle": "2024-11-14T04:57:27.576749Z",
          "shell.execute_reply": "2024-11-14T04:57:27.575983Z",
          "shell.execute_reply.started": "2024-11-14T04:56:57.870747Z"
        },
        "trusted": true,
        "id": "PlVmZ_drNiBK",
        "outputId": "f9a61066-c5c9-45a2-a1a8-99ee55d39b04"
      },
      "outputs": [
        {
          "name": "stderr",
          "output_type": "stream",
          "text": [
            "/usr/local/lib/python3.10/site-packages/tqdm/auto.py:21: TqdmWarning: IProgress not found. Please update jupyter and ipywidgets. See https://ipywidgets.readthedocs.io/en/stable/user_install.html\n",
            "  from .autonotebook import tqdm as notebook_tqdm\n",
            "/usr/local/lib/python3.10/site-packages/torch_xla/__init__.py:202: UserWarning: `tensorflow` can conflict with `torch-xla`. Prefer `tensorflow-cpu` when using PyTorch/XLA. To silence this warning, `pip uninstall -y tensorflow && pip install tensorflow-cpu`. If you are in a notebook environment such as Colab or Kaggle, restart your notebook runtime afterwards.\n",
            "  warnings.warn(\n"
          ]
        }
      ],
      "source": [
        "import torch\n",
        "import torch.nn as nn\n",
        "from transformers import LlamaForCausalLM, LlamaConfig, AutoTokenizer\n",
        "import pandas as pd"
      ]
    },
    {
      "cell_type": "markdown",
      "source": [
        "# **Choosing the best tokenizer trained from Task 1**"
      ],
      "metadata": {
        "id": "OBN15Sq3Uq_A"
      }
    },
    {
      "cell_type": "code",
      "execution_count": null,
      "metadata": {
        "execution": {
          "iopub.execute_input": "2024-11-14T04:57:30.192893Z",
          "iopub.status.busy": "2024-11-14T04:57:30.192118Z",
          "iopub.status.idle": "2024-11-14T04:57:30.280724Z",
          "shell.execute_reply": "2024-11-14T04:57:30.279835Z",
          "shell.execute_reply.started": "2024-11-14T04:57:30.192859Z"
        },
        "trusted": true,
        "id": "BaGVojkpNiBQ"
      },
      "outputs": [],
      "source": [
        "tokenizer = AutoTokenizer.from_pretrained('/kaggle/input/task2-files/tokenizer_5')"
      ]
    },
    {
      "cell_type": "markdown",
      "source": [
        "# **Adjusting the model architecture in such a way that its total parameters are less than 100M. (25 Pts)**"
      ],
      "metadata": {
        "id": "r7S-RWd3UVVj"
      }
    },
    {
      "cell_type": "code",
      "execution_count": null,
      "metadata": {
        "execution": {
          "iopub.execute_input": "2024-11-14T04:57:33.956309Z",
          "iopub.status.busy": "2024-11-14T04:57:33.955527Z",
          "iopub.status.idle": "2024-11-14T04:57:33.978280Z",
          "shell.execute_reply": "2024-11-14T04:57:33.977460Z",
          "shell.execute_reply.started": "2024-11-14T04:57:33.956275Z"
        },
        "trusted": true,
        "id": "lSPvREuMNiBS"
      },
      "outputs": [],
      "source": [
        "config = LlamaConfig( hidden_size=256,\n",
        "                     vocab_size=len(tokenizer.vocab),\n",
        "                     num_attention_heads=4,\n",
        "                     num_key_value_heads=1,\n",
        "                     num_hidden_layers=8,\n",
        "                     intermediate_size=512 )"
      ]
    },
    {
      "cell_type": "code",
      "execution_count": null,
      "metadata": {
        "execution": {
          "iopub.execute_input": "2024-11-14T04:57:38.229052Z",
          "iopub.status.busy": "2024-11-14T04:57:38.228505Z",
          "iopub.status.idle": "2024-11-14T04:57:38.700169Z",
          "shell.execute_reply": "2024-11-14T04:57:38.699411Z",
          "shell.execute_reply.started": "2024-11-14T04:57:38.229019Z"
        },
        "trusted": true,
        "id": "zclCCmukNiBT"
      },
      "outputs": [],
      "source": [
        "device = torch.device('cuda' if torch.cuda.is_available() else 'cpu')\n",
        "model = LlamaForCausalLM(config).to(device)\n",
        "\n",
        "# Xavier initialization\n",
        "for name, param in model.named_parameters():\n",
        "    if param.requires_grad and param.dim() > 1:\n",
        "        nn.init.xavier_uniform_(param)\n"
      ]
    },
    {
      "cell_type": "code",
      "execution_count": null,
      "metadata": {
        "execution": {
          "iopub.execute_input": "2024-11-14T04:57:46.039487Z",
          "iopub.status.busy": "2024-11-14T04:57:46.038539Z",
          "iopub.status.idle": "2024-11-14T04:59:54.055251Z",
          "shell.execute_reply": "2024-11-14T04:59:54.054401Z",
          "shell.execute_reply.started": "2024-11-14T04:57:46.039430Z"
        },
        "trusted": true,
        "id": "MlAGz5ygNiBU"
      },
      "outputs": [],
      "source": [
        "df = pd.read_csv('/kaggle/input/task2-files/combined_output_part5.csv', usecols=[1], header=None, dtype={1: str})\n",
        "df.columns = ['text']\n",
        "df.fillna('', inplace=True)\n",
        "\n",
        "input_ids = tokenizer(df['text'].tolist(), truncation=True, padding=True, max_length=512, return_tensors=\"pt\")[\"input_ids\"]\n"
      ]
    },
    {
      "cell_type": "code",
      "execution_count": null,
      "metadata": {
        "execution": {
          "iopub.execute_input": "2024-11-14T05:01:36.022959Z",
          "iopub.status.busy": "2024-11-14T05:01:36.022575Z",
          "iopub.status.idle": "2024-11-14T05:01:36.029106Z",
          "shell.execute_reply": "2024-11-14T05:01:36.028362Z",
          "shell.execute_reply.started": "2024-11-14T05:01:36.022911Z"
        },
        "trusted": true,
        "id": "NOnxO6tdNiBU"
      },
      "outputs": [],
      "source": [
        "\n",
        "train_data = torch.utils.data.TensorDataset(input_ids)\n",
        "train_loader = torch.utils.data.DataLoader(train_data, batch_size=8, shuffle=True)\n",
        "\n",
        "\n",
        "learning_rate = 5e-5\n",
        "epochs = 1\n",
        "optimizer = torch.optim.AdamW(model.parameters(), lr=learning_rate)\n",
        "criterion = nn.CrossEntropyLoss()\n"
      ]
    },
    {
      "cell_type": "code",
      "execution_count": null,
      "metadata": {
        "execution": {
          "iopub.execute_input": "2024-11-14T05:01:38.709614Z",
          "iopub.status.busy": "2024-11-14T05:01:38.709235Z",
          "iopub.status.idle": "2024-11-14T05:01:38.839382Z",
          "shell.execute_reply": "2024-11-14T05:01:38.838580Z",
          "shell.execute_reply.started": "2024-11-14T05:01:38.709574Z"
        },
        "trusted": true,
        "id": "-5ROdTkLNiBU",
        "outputId": "5a7441f2-9afa-440f-c92d-c14063249058"
      },
      "outputs": [
        {
          "name": "stdout",
          "output_type": "stream",
          "text": [
            "Total Parameters: 20.845312M\n"
          ]
        }
      ],
      "source": [
        "for name, param in model.named_parameters():\n",
        "    if param.requires_grad and len(param.size()) > 1:\n",
        "        nn.init.xavier_uniform_(param.data)\n",
        "\n",
        "total_params = sum(p.numel() for p in model.parameters() if p.requires_grad)\n",
        "print(f\"Total Parameters: {total_params / 1e6}M\")"
      ]
    },
    {
      "cell_type": "markdown",
      "source": [
        "# **As shown above, our model had 20.84M parameters.**"
      ],
      "metadata": {
        "id": "b-NNOdLRRDYD"
      }
    },
    {
      "cell_type": "code",
      "execution_count": null,
      "metadata": {
        "execution": {
          "iopub.execute_input": "2024-11-14T05:01:41.376438Z",
          "iopub.status.busy": "2024-11-14T05:01:41.376088Z",
          "iopub.status.idle": "2024-11-14T05:01:41.380288Z",
          "shell.execute_reply": "2024-11-14T05:01:41.379547Z",
          "shell.execute_reply.started": "2024-11-14T05:01:41.376411Z"
        },
        "trusted": true,
        "id": "fk65NBdENiBV"
      },
      "outputs": [],
      "source": [
        "batch_size = 8\n",
        "learning_rate = 5e-5\n",
        "epochs = 1\n",
        "perplexity_values = []"
      ]
    },
    {
      "cell_type": "markdown",
      "source": [
        "# **Model training is done below, perplexity is also printed every 0.1 epoch**"
      ],
      "metadata": {
        "id": "2rtdCoO6PapF"
      }
    },
    {
      "cell_type": "code",
      "execution_count": null,
      "metadata": {
        "execution": {
          "iopub.execute_input": "2024-11-14T05:01:57.531478Z",
          "iopub.status.busy": "2024-11-14T05:01:57.530609Z",
          "iopub.status.idle": "2024-11-14T06:37:03.484323Z",
          "shell.execute_reply": "2024-11-14T06:37:03.482888Z",
          "shell.execute_reply.started": "2024-11-14T05:01:57.531444Z"
        },
        "trusted": true,
        "id": "RhBCUffMNiBV",
        "outputId": "4b3fe105-80a1-4419-a111-13bd550e59ca"
      },
      "outputs": [
        {
          "name": "stdout",
          "output_type": "stream",
          "text": [
            "Perplexity at 0.0 epoch: 32350.666015625\n",
            "Perplexity at 0.1 epoch: 1584.27734375\n",
            "Perplexity at 0.2 epoch: 684.3477783203125\n",
            "Perplexity at 0.3 epoch: 438.08929443359375\n",
            "Perplexity at 0.4 epoch: 319.1033020019531\n",
            "Perplexity at 0.5 epoch: 256.9993896484375\n",
            "Perplexity at 0.6 epoch: 213.5207977294922\n",
            "Perplexity at 0.7 epoch: 185.11898803710938\n",
            "Perplexity at 0.8 epoch: 163.6551055908203\n"
          ]
        },
        {
          "ename": "KeyboardInterrupt",
          "evalue": "",
          "output_type": "error",
          "traceback": [
            "\u001b[0;31m---------------------------------------------------------------------------\u001b[0m",
            "\u001b[0;31mKeyboardInterrupt\u001b[0m                         Traceback (most recent call last)",
            "Cell \u001b[0;32mIn[9], line 17\u001b[0m\n\u001b[1;32m     15\u001b[0m \u001b[38;5;66;03m# Backward pass and optimization\u001b[39;00m\n\u001b[1;32m     16\u001b[0m optimizer\u001b[38;5;241m.\u001b[39mzero_grad()\n\u001b[0;32m---> 17\u001b[0m \u001b[43mloss\u001b[49m\u001b[38;5;241;43m.\u001b[39;49m\u001b[43mbackward\u001b[49m\u001b[43m(\u001b[49m\u001b[43m)\u001b[49m\n\u001b[1;32m     18\u001b[0m optimizer\u001b[38;5;241m.\u001b[39mstep()\n\u001b[1;32m     20\u001b[0m \u001b[38;5;66;03m# Log perplexity at every 0.1 epoch\u001b[39;00m\n",
            "File \u001b[0;32m/usr/local/lib/python3.10/site-packages/torch/_tensor.py:521\u001b[0m, in \u001b[0;36mTensor.backward\u001b[0;34m(self, gradient, retain_graph, create_graph, inputs)\u001b[0m\n\u001b[1;32m    511\u001b[0m \u001b[38;5;28;01mif\u001b[39;00m has_torch_function_unary(\u001b[38;5;28mself\u001b[39m):\n\u001b[1;32m    512\u001b[0m     \u001b[38;5;28;01mreturn\u001b[39;00m handle_torch_function(\n\u001b[1;32m    513\u001b[0m         Tensor\u001b[38;5;241m.\u001b[39mbackward,\n\u001b[1;32m    514\u001b[0m         (\u001b[38;5;28mself\u001b[39m,),\n\u001b[0;32m   (...)\u001b[0m\n\u001b[1;32m    519\u001b[0m         inputs\u001b[38;5;241m=\u001b[39minputs,\n\u001b[1;32m    520\u001b[0m     )\n\u001b[0;32m--> 521\u001b[0m \u001b[43mtorch\u001b[49m\u001b[38;5;241;43m.\u001b[39;49m\u001b[43mautograd\u001b[49m\u001b[38;5;241;43m.\u001b[39;49m\u001b[43mbackward\u001b[49m\u001b[43m(\u001b[49m\n\u001b[1;32m    522\u001b[0m \u001b[43m    \u001b[49m\u001b[38;5;28;43mself\u001b[39;49m\u001b[43m,\u001b[49m\u001b[43m \u001b[49m\u001b[43mgradient\u001b[49m\u001b[43m,\u001b[49m\u001b[43m \u001b[49m\u001b[43mretain_graph\u001b[49m\u001b[43m,\u001b[49m\u001b[43m \u001b[49m\u001b[43mcreate_graph\u001b[49m\u001b[43m,\u001b[49m\u001b[43m \u001b[49m\u001b[43minputs\u001b[49m\u001b[38;5;241;43m=\u001b[39;49m\u001b[43minputs\u001b[49m\n\u001b[1;32m    523\u001b[0m \u001b[43m\u001b[49m\u001b[43m)\u001b[49m\n",
            "File \u001b[0;32m/usr/local/lib/python3.10/site-packages/torch/autograd/__init__.py:289\u001b[0m, in \u001b[0;36mbackward\u001b[0;34m(tensors, grad_tensors, retain_graph, create_graph, grad_variables, inputs)\u001b[0m\n\u001b[1;32m    284\u001b[0m     retain_graph \u001b[38;5;241m=\u001b[39m create_graph\n\u001b[1;32m    286\u001b[0m \u001b[38;5;66;03m# The reason we repeat the same comment below is that\u001b[39;00m\n\u001b[1;32m    287\u001b[0m \u001b[38;5;66;03m# some Python versions print out the first line of a multi-line function\u001b[39;00m\n\u001b[1;32m    288\u001b[0m \u001b[38;5;66;03m# calls in the traceback and some print out the last line\u001b[39;00m\n\u001b[0;32m--> 289\u001b[0m \u001b[43m_engine_run_backward\u001b[49m\u001b[43m(\u001b[49m\n\u001b[1;32m    290\u001b[0m \u001b[43m    \u001b[49m\u001b[43mtensors\u001b[49m\u001b[43m,\u001b[49m\n\u001b[1;32m    291\u001b[0m \u001b[43m    \u001b[49m\u001b[43mgrad_tensors_\u001b[49m\u001b[43m,\u001b[49m\n\u001b[1;32m    292\u001b[0m \u001b[43m    \u001b[49m\u001b[43mretain_graph\u001b[49m\u001b[43m,\u001b[49m\n\u001b[1;32m    293\u001b[0m \u001b[43m    \u001b[49m\u001b[43mcreate_graph\u001b[49m\u001b[43m,\u001b[49m\n\u001b[1;32m    294\u001b[0m \u001b[43m    \u001b[49m\u001b[43minputs\u001b[49m\u001b[43m,\u001b[49m\n\u001b[1;32m    295\u001b[0m \u001b[43m    \u001b[49m\u001b[43mallow_unreachable\u001b[49m\u001b[38;5;241;43m=\u001b[39;49m\u001b[38;5;28;43;01mTrue\u001b[39;49;00m\u001b[43m,\u001b[49m\n\u001b[1;32m    296\u001b[0m \u001b[43m    \u001b[49m\u001b[43maccumulate_grad\u001b[49m\u001b[38;5;241;43m=\u001b[39;49m\u001b[38;5;28;43;01mTrue\u001b[39;49;00m\u001b[43m,\u001b[49m\n\u001b[1;32m    297\u001b[0m \u001b[43m\u001b[49m\u001b[43m)\u001b[49m\n",
            "File \u001b[0;32m/usr/local/lib/python3.10/site-packages/torch/autograd/graph.py:768\u001b[0m, in \u001b[0;36m_engine_run_backward\u001b[0;34m(t_outputs, *args, **kwargs)\u001b[0m\n\u001b[1;32m    766\u001b[0m     unregister_hooks \u001b[38;5;241m=\u001b[39m _register_logging_hooks_on_whole_graph(t_outputs)\n\u001b[1;32m    767\u001b[0m \u001b[38;5;28;01mtry\u001b[39;00m:\n\u001b[0;32m--> 768\u001b[0m     \u001b[38;5;28;01mreturn\u001b[39;00m \u001b[43mVariable\u001b[49m\u001b[38;5;241;43m.\u001b[39;49m\u001b[43m_execution_engine\u001b[49m\u001b[38;5;241;43m.\u001b[39;49m\u001b[43mrun_backward\u001b[49m\u001b[43m(\u001b[49m\u001b[43m  \u001b[49m\u001b[38;5;66;43;03m# Calls into the C++ engine to run the backward pass\u001b[39;49;00m\n\u001b[1;32m    769\u001b[0m \u001b[43m        \u001b[49m\u001b[43mt_outputs\u001b[49m\u001b[43m,\u001b[49m\u001b[43m \u001b[49m\u001b[38;5;241;43m*\u001b[39;49m\u001b[43margs\u001b[49m\u001b[43m,\u001b[49m\u001b[43m \u001b[49m\u001b[38;5;241;43m*\u001b[39;49m\u001b[38;5;241;43m*\u001b[39;49m\u001b[43mkwargs\u001b[49m\n\u001b[1;32m    770\u001b[0m \u001b[43m    \u001b[49m\u001b[43m)\u001b[49m  \u001b[38;5;66;03m# Calls into the C++ engine to run the backward pass\u001b[39;00m\n\u001b[1;32m    771\u001b[0m \u001b[38;5;28;01mfinally\u001b[39;00m:\n\u001b[1;32m    772\u001b[0m     \u001b[38;5;28;01mif\u001b[39;00m attach_logging_hooks:\n",
            "\u001b[0;31mKeyboardInterrupt\u001b[0m: "
          ]
        }
      ],
      "source": [
        "for epoch in range(epochs):\n",
        "    model.train()\n",
        "    epoch_loss = 0\n",
        "    num_batches = len(train_loader)\n",
        "\n",
        "    for batch_num, batch in enumerate(train_loader):\n",
        "        inputs = batch[0].to(device)\n",
        "\n",
        "        outputs = model(inputs, labels=inputs)\n",
        "        loss = outputs.loss\n",
        "        epoch_loss += loss.item()\n",
        "\n",
        "        optimizer.zero_grad()\n",
        "        loss.backward()\n",
        "        optimizer.step()\n",
        "\n",
        "        # Log perplexity at every 0.1 epoch\n",
        "        if batch_num % (num_batches // 10) == 0:\n",
        "            perplexity = torch.exp(torch.tensor(epoch_loss / (batch_num + 1)))\n",
        "            print(f\"Perplexity at {epoch + (batch_num / num_batches):.1f} epoch: {perplexity.item()}\")"
      ]
    },
    {
      "cell_type": "markdown",
      "source": [
        "# **In the above model training cell, we interupted the kernal at 0.9 epoch instead of allowing it to train till 1.0 epoch because we were running short on runtime and since we had to save and download the model, also to prepare perplexity matrix and to get responses from the prompts using the model, we stopped the training at 0.9 epoch (instead of 1.0).**"
      ],
      "metadata": {
        "id": "xgKcAoNqOVor"
      }
    },
    {
      "cell_type": "code",
      "execution_count": null,
      "metadata": {
        "execution": {
          "iopub.execute_input": "2024-11-14T06:37:14.842527Z",
          "iopub.status.busy": "2024-11-14T06:37:14.842057Z",
          "iopub.status.idle": "2024-11-14T06:37:14.971978Z",
          "shell.execute_reply": "2024-11-14T06:37:14.970950Z",
          "shell.execute_reply.started": "2024-11-14T06:37:14.842489Z"
        },
        "trusted": true,
        "id": "4Lk-Rn1wNiBW",
        "outputId": "edcf5b42-3ae5-4584-af0f-77d1e5c8e27f"
      },
      "outputs": [
        {
          "name": "stdout",
          "output_type": "stream",
          "text": [
            "Model saved at model_epoch_1.pth\n"
          ]
        }
      ],
      "source": [
        "torch.save(model.state_dict(), f\"model_epoch_{epoch + 1}.pth\")\n",
        "print(f\"Model saved at model_epoch_{epoch + 1}.pth\")"
      ]
    },
    {
      "cell_type": "code",
      "execution_count": null,
      "metadata": {
        "execution": {
          "iopub.execute_input": "2024-11-14T06:37:19.989091Z",
          "iopub.status.busy": "2024-11-14T06:37:19.988694Z",
          "iopub.status.idle": "2024-11-14T06:37:19.997640Z",
          "shell.execute_reply": "2024-11-14T06:37:19.996832Z",
          "shell.execute_reply.started": "2024-11-14T06:37:19.989058Z"
        },
        "trusted": true,
        "id": "I1KcU0lzNiBW",
        "outputId": "bbf14cc8-9f77-485d-9fa0-22496e6188a3"
      },
      "outputs": [
        {
          "data": {
            "text/html": [
              "<a href='model_epoch_1.pth' target='_blank'>model_epoch_1.pth</a><br>"
            ],
            "text/plain": [
              "/kaggle/working/model_epoch_1.pth"
            ]
          },
          "execution_count": 12,
          "metadata": {},
          "output_type": "execute_result"
        }
      ],
      "source": [
        "from IPython.display import FileLink\n",
        "FileLink(r'model_epoch_1.pth')"
      ]
    },
    {
      "cell_type": "markdown",
      "source": [
        "# **Below is the matrix/graph of Perplexity with epoch values (range of 0.1 to 0.9)**"
      ],
      "metadata": {
        "id": "hlMUvUreVIXF"
      }
    },
    {
      "cell_type": "code",
      "execution_count": null,
      "metadata": {
        "id": "D_a95OyUNiBW",
        "outputId": "3fa9f24e-51d1-4156-89c1-06e03400f3e9"
      },
      "outputs": [
        {
          "data": {
            "image/png": "[encoded data removed]",
            "text/plain": [
              "<Figure size 640x480 with 1 Axes>"
            ]
          },
          "metadata": {},
          "output_type": "display_data"
        }
      ],
      "source": [
        "import numpy as np\n",
        "import matplotlib.pyplot as plt\n",
        "\n",
        "# Define the perplexity values and corresponding epochs\n",
        "perplexity_values = [\n",
        "    32350.666015625,\n",
        "    1584.27734375,\n",
        "    684.3477783203125,\n",
        "    438.08929443359375,\n",
        "    319.1033020019531,\n",
        "    256.9993896484375,\n",
        "    213.5207977294922,\n",
        "    185.11898803710938,\n",
        "    163.6551055908203\n",
        "]\n",
        "\n",
        "# Convert to a numpy array\n",
        "perplexity_matrix = np.array(perplexity_values)\n",
        "\n",
        "# Define x-axis values from 0.1 to 0.9 with a step of 0.1\n",
        "epochs = np.arange(0.1, 1.0, 0.1)\n",
        "\n",
        "# Plot the graph\n",
        "plt.plot(epochs, perplexity_matrix)\n",
        "plt.title('Perplexity Over Epoch')\n",
        "plt.xlabel('Epoch')\n",
        "plt.ylabel('Perplexity')\n",
        "\n",
        "# Show the plot\n",
        "plt.show()\n"
      ]
    },
    {
      "cell_type": "code",
      "execution_count": null,
      "metadata": {
        "execution": {
          "iopub.execute_input": "2024-11-14T06:39:44.817757Z",
          "iopub.status.busy": "2024-11-14T06:39:44.816651Z",
          "iopub.status.idle": "2024-11-14T06:39:44.822046Z",
          "shell.execute_reply": "2024-11-14T06:39:44.821126Z",
          "shell.execute_reply.started": "2024-11-14T06:39:44.817717Z"
        },
        "trusted": true,
        "id": "0UvvgSxWNiBX"
      },
      "outputs": [],
      "source": [
        "prompts = [\n",
        "    \"Wie sieht ein typischer Tag in deiner Stadt aus?\",\n",
        "    \"Was sind die Vorteile der Nutzung erneuerbarer Energien?\",\n",
        "    \"Erzähle mir von einem Buch, das du kürzlich gelesen hast.\",\n",
        "    \"Was sind die größten Herausforderungen bei der Arbeit im Homeoffice?\",\n",
        "    \"Wie funktioniert der Prozess der Photosynthese in Pflanzen?\",\n",
        "    \"Was ist der Unterschied zwischen Demokratie und Diktatur?\",\n",
        "    \"Welche Rolle spielt Technologie in der heutigen Bildung?\",\n",
        "    \"Was sind die wichtigsten Eigenschaften eines guten Führers?\",\n",
        "    \"Erkläre den Begriff 'Künstliche Intelligenz' in einfachen Worten.\",\n",
        "    \"Was sind die Vorteile von gesunder Ernährung und regelmäßiger Bewegung?\"\n",
        "]\n"
      ]
    },
    {
      "cell_type": "code",
      "execution_count": null,
      "metadata": {
        "execution": {
          "iopub.execute_input": "2024-11-14T06:53:37.665374Z",
          "iopub.status.busy": "2024-11-14T06:53:37.664572Z",
          "iopub.status.idle": "2024-11-14T06:54:36.858858Z",
          "shell.execute_reply": "2024-11-14T06:54:36.857833Z",
          "shell.execute_reply.started": "2024-11-14T06:53:37.665338Z"
        },
        "trusted": true,
        "id": "B6Ugb0qhNiBX",
        "outputId": "f9abbb71-d88b-4577-983d-4069ef027f07"
      },
      "outputs": [
        {
          "name": "stdout",
          "output_type": "stream",
          "text": [
            "Prompt_1: Wie sieht ein typischer Tag in deiner Stadt aus?\n",
            "Response_1: Wie sieht ein typischer Tag in deiner Stadt aus?en und der Putette Kulch in den Ram ( ) und \"arel\" von Gumed\" hat die beiden Tochter von ihrem TV.  ) nach dem Lrozeny Corida ( ),  -Jährige als  Jahre über seine  . Jahre im Jahr  -Jährige\n",
            "\n",
            "\n",
            "Prompt_2: Was sind die Vorteile der Nutzung erneuerbarer Energien?\n",
            "Response_2: Was sind die Vorteile der Nutzung erneuerbarer Energien? Wir verraten dir, ist das mal ein einem Bur und wie du die Haarste Kind zu finden. Das ist die Haut in einer Kunern für  Euro - und es kannst du dich im Sternzeichen viel schehen. Die Vorzeiten ist sich von ihrem Anden Teit. Der besten Menschen gibt es auf die Haut mit dem Zeit zum Trenden. Im Video erfährst du hier dir: \n",
            "Ochte! Und das kann aus dem Körper\n",
            "\n",
            "\n",
            "Prompt_3: Erzähle mir von einem Buch, das du kürzlich gelesen hast.\n",
            "Response_3: Erzähle mir von einem Buch, das du kürzlich gelesen hast.Seine  . - bis  .“ mit dem beiden Ha I of Boy\" hat es ein paar Jahre im Interview mit diesem Jahr auf die Musik. Und was ich habe – und auch einen Frau nach der aktuellen Sohn ihres Wochen sind ihre Kinderes Jahr als Fans für ihren Schauspielerin Bunpe ( . Mai) den letzten\n",
            "\n",
            "\n",
            "Prompt_4: Was sind die größten Herausforderungen bei der Arbeit im Homeoffice?\n",
            "Response_4: Was sind die größten Herausforderungen bei der Arbeit im Homeoffice? \n",
            "\n",
            "DieTsa und  ,  . Die  . bis  in  war im vergangenen Jahr  - ) an  \"  ) und  ist es noch\n",
            "\n",
            "\n",
            "Prompt_5: Wie funktioniert der Prozess der Photosynthese in Pflanzen?\n",
            "Response_5: Wie funktioniert der Prozess der Photosynthese in Pflanzen? und der Datenschutz- . Die  hat die Ampel gegen Grundrechte auf dem Bekämpfung des Bundestag“ aus einer Behörden im Jahr  , um  Jahre verwiesen und das nicht nur einen mehr als öffentlichen Einsatz des Mediens, sondern auch ein paar Jahren für eine neue EU, die an der neuen Folgen der Gesetz. Denn er war den AfD die Bundesregierung von Solingen auf die Polizei, dass\n",
            "\n",
            "\n",
            "Prompt_6: Was ist der Unterschied zwischen Demokratie und Diktatur?\n",
            "Response_6: Was ist der Unterschied zwischen Demokratie und Diktatur? Wir verraten dir wie die  -Jährige in den beiden  -Jährige) um einen Rolle von den Fans in einem seinem neuen Rosci ( ), ihre  Jahre war sie in Berlin ein paar - . \n",
            "Wie auch im ersten Coto ( ) sind für eine ganz anderen Zeit. Das geht es so auf diesen großen Beziehung nach dem letzten Jahren bei dem RTL und ihr Sohn\n",
            "\n",
            "\n",
            "Prompt_7: Welche Rolle spielt Technologie in der heutigen Bildung?\n",
            "Response_7: Welche Rolle spielt Technologie in der heutigen Bildung? ist die  -Jährige  auf der letzten Jahren im Video – und ein Paar\" wird sich für den beiden Cadon ( ) als Schauspieler von seinem Staffel  . ). Doch was wird das erste Tagen hat es am  . September, wie er ihr Tochter war\", \"Fol Bay\" mit dem ersten Tag im Jahr  bis \n",
            "\n",
            "\n",
            "Prompt_8: Was sind die wichtigsten Eigenschaften eines guten Führers?\n",
            "Response_8: Was sind die wichtigsten Eigenschaften eines guten Führers? Und dir ist vor allem bei einem ganz neue neuen Tag der meisten  , in diesem Video: Sie hat der  -Jährige nicht mehr als im Alter von  . . . Jahren und  Jahre \"gi. Die beiden  . Juni) mit seinem Staffel ( . August  ) – und das so viel Mann, das\n",
            "\n",
            "\n",
            "Prompt_9: Erkläre den Begriff 'Künstliche Intelligenz' in einfachen Worten.\n",
            "Response_9: Erkläre den Begriff 'Künstliche Intelligenz' in einfachen Worten. Der Überwachungs) und die  -Jährige ist eine große Bundesgische Tarisch zu sein. Doch wie die neue Stars als \"Gio\" wurde die Filmsikon ( ), der Sängerin mit ihrem Tochter auf dem Serie ( ) hat sich im Video mehr in seinen neuen Schauspieler. Die neue Interview war sie auf das Hanglaler über diese Schangefot\n",
            "\n",
            "\n",
            "Prompt_10: Was sind die Vorteile von gesunder Ernährung und regelmäßiger Bewegung?\n",
            "Response_10: Was sind die Vorteile von gesunder Ernährung und regelmäßiger Bewegung? Die meisten hriegt das Hautes Kind oder gut für diche Haut mit der Auswüter zu verlegt. Der Grund, dass eine gute Leben der Thema Fus vor allem nach den Lolet und Nopana Welisch und einer Kilning des Tutalin Barin\" in der Weltsaugen zu werden – und diese  Euro! Hier gibt es keine neue\n",
            "\n",
            "\n"
          ]
        }
      ],
      "source": [
        "i=0\n",
        "for prompt in prompts:\n",
        "    print(f\"Prompt_{i+1}: {prompt}\")\n",
        "\n",
        "\n",
        "    inputs = tokenizer(prompt, return_tensors=\"pt\", padding=True, truncation=True, max_length=512)\n",
        "    input_ids = inputs.input_ids.to(model.device)\n",
        "    attention_mask = inputs.attention_mask.to(model.device)\n",
        "\n",
        "\n",
        "    with torch.no_grad():\n",
        "        outputs = model.generate(input_ids, attention_mask=attention_mask,\n",
        "                                 max_length=100, num_return_sequences=1,\n",
        "                                 pad_token_id=tokenizer.eos_token_id,\n",
        "                                 temperature=0.7, top_p=0.9,\n",
        "                                 repetition_penalty=1.2,do_sample=True)\n",
        "\n",
        "\n",
        "    response = tokenizer.decode(outputs[0], skip_special_tokens=True)\n",
        "    print(f\"Response_{i+1}: {response}\")\n",
        "    print('\\n')\n",
        "    i+=1\n"
      ]
    },
    {
      "cell_type": "markdown",
      "source": [
        "# **In the above output cell, we can see the responses generated by the model for the given 10 prompts.**"
      ],
      "metadata": {
        "id": "ly-pVPx5S_Fe"
      }
    },
    {
      "cell_type": "code",
      "source": [],
      "metadata": {
        "id": "wmlZAdfGVyxG"
      },
      "execution_count": null,
      "outputs": []
    }
  ],
  "metadata": {
    "kaggle": {
      "accelerator": "tpu1vmV38",
      "dataSources": [
        {
          "datasetId": 6080513,
          "sourceId": 9898818,
          "sourceType": "datasetVersion"
        }
      ],
      "dockerImageVersionId": 30788,
      "isGpuEnabled": false,
      "isInternetEnabled": true,
      "language": "python",
      "sourceType": "notebook"
    },
    "kernelspec": {
      "display_name": "Python 3.11.1 64-bit",
      "language": "python",
      "name": "python3"
    },
    "language_info": {
      "codemirror_mode": {
        "name": "ipython",
        "version": 3
      },
      "file_extension": ".py",
      "mimetype": "text/x-python",
      "name": "python",
      "nbconvert_exporter": "python",
      "pygments_lexer": "ipython3",
      "version": "3.11.1"
    },
    "vscode": {
      "interpreter": {
        "hash": "1f6a27bcfbe46a917dbd192f4a82657396dda26148bae633192e8d28c70725f1"
      }
    },
    "colab": {
      "provenance": []
    }
  },
  "nbformat": 4,
  "nbformat_minor": 0
}